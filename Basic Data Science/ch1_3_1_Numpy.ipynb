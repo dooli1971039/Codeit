{
 "cells": [
  {
   "cell_type": "code",
   "execution_count": 1,
   "id": "31b3eacc",
   "metadata": {},
   "outputs": [],
   "source": [
    "import numpy  #numpy모듈을 불러옴"
   ]
  },
  {
   "cell_type": "code",
   "execution_count": 2,
   "id": "24333552",
   "metadata": {},
   "outputs": [],
   "source": [
    "array1=numpy.array([2,3,5,7,11,13,17,19,23,29,31]) #numpy모듈의 array함수를 사용함. 이때 파이썬 리스트를 매개변수로 넘겨줌"
   ]
  },
  {
   "cell_type": "code",
   "execution_count": 3,
   "id": "7f96685a",
   "metadata": {},
   "outputs": [
    {
     "data": {
      "text/plain": [
       "array([ 2,  3,  5,  7, 11, 13, 17, 19, 23, 29, 31])"
      ]
     },
     "execution_count": 3,
     "metadata": {},
     "output_type": "execute_result"
    }
   ],
   "source": [
    "array1"
   ]
  },
  {
   "cell_type": "code",
   "execution_count": 4,
   "id": "98a6dfb1",
   "metadata": {},
   "outputs": [
    {
     "data": {
      "text/plain": [
       "numpy.ndarray"
      ]
     },
     "execution_count": 4,
     "metadata": {},
     "output_type": "execute_result"
    }
   ],
   "source": [
    "type(array1)"
   ]
  },
  {
   "cell_type": "code",
   "execution_count": 5,
   "id": "d7c47ee9",
   "metadata": {},
   "outputs": [
    {
     "data": {
      "text/plain": [
       "(11,)"
      ]
     },
     "execution_count": 5,
     "metadata": {},
     "output_type": "execute_result"
    }
   ],
   "source": [
    "array1.shape  #array1에 몇개의 요소가 있는지"
   ]
  },
  {
   "cell_type": "code",
   "execution_count": 6,
   "id": "3e7ded1b",
   "metadata": {},
   "outputs": [],
   "source": [
    "array2=numpy.array([[1,2,3,4],[5,6,7,8],[9,10,11,12]])"
   ]
  },
  {
   "cell_type": "code",
   "execution_count": 7,
   "id": "008ef2b0",
   "metadata": {},
   "outputs": [
    {
     "data": {
      "text/plain": [
       "numpy.ndarray"
      ]
     },
     "execution_count": 7,
     "metadata": {},
     "output_type": "execute_result"
    }
   ],
   "source": [
    "type(array2)"
   ]
  },
  {
   "cell_type": "markdown",
   "id": "9fb33d47",
   "metadata": {},
   "source": [
    "#### numpy.ndarray인 이유\n",
    "ndarray => n차원 배열"
   ]
  },
  {
   "cell_type": "code",
   "execution_count": 8,
   "id": "f687b27a",
   "metadata": {},
   "outputs": [
    {
     "data": {
      "text/plain": [
       "array([[ 1,  2,  3,  4],\n",
       "       [ 5,  6,  7,  8],\n",
       "       [ 9, 10, 11, 12]])"
      ]
     },
     "execution_count": 8,
     "metadata": {},
     "output_type": "execute_result"
    }
   ],
   "source": [
    "array2"
   ]
  },
  {
   "cell_type": "code",
   "execution_count": 9,
   "id": "839ca7df",
   "metadata": {},
   "outputs": [
    {
     "data": {
      "text/plain": [
       "(3, 4)"
      ]
     },
     "execution_count": 9,
     "metadata": {},
     "output_type": "execute_result"
    }
   ],
   "source": [
    "array2.shape"
   ]
  },
  {
   "cell_type": "markdown",
   "id": "ba5552fd",
   "metadata": {},
   "source": [
    "array.shape을 했을 때 (3,4)로 나오면, 3행 4열인 2차원 array라는 의미이다."
   ]
  },
  {
   "cell_type": "code",
   "execution_count": 10,
   "id": "fc615349",
   "metadata": {},
   "outputs": [
    {
     "data": {
      "text/plain": [
       "11"
      ]
     },
     "execution_count": 10,
     "metadata": {},
     "output_type": "execute_result"
    }
   ],
   "source": [
    "array1.size"
   ]
  },
  {
   "cell_type": "code",
   "execution_count": 11,
   "id": "398c83cb",
   "metadata": {},
   "outputs": [
    {
     "data": {
      "text/plain": [
       "12"
      ]
     },
     "execution_count": 11,
     "metadata": {},
     "output_type": "execute_result"
    }
   ],
   "source": [
    "array2.size"
   ]
  },
  {
   "cell_type": "markdown",
   "id": "e87b765c",
   "metadata": {},
   "source": [
    "array1의 원소의 개수는 12개였고, array2는 3행 4열이어서 3 * 4 이므로 12이다."
   ]
  },
  {
   "cell_type": "code",
   "execution_count": 12,
   "id": "f418477d",
   "metadata": {},
   "outputs": [
    {
     "name": "stdout",
     "output_type": "stream",
     "text": [
      "[ 2  3  5  7 11 13 17 19 23 29 31]\n"
     ]
    }
   ],
   "source": [
    "print(array1)"
   ]
  },
  {
   "cell_type": "code",
   "execution_count": 13,
   "id": "3b84352d",
   "metadata": {},
   "outputs": [],
   "source": [
    "arr3= numpy.full(6,7)  # 원소 개수는 6개, 그 값은 7로"
   ]
  },
  {
   "cell_type": "code",
   "execution_count": 14,
   "id": "1123e658",
   "metadata": {},
   "outputs": [
    {
     "data": {
      "text/plain": [
       "array([7, 7, 7, 7, 7, 7])"
      ]
     },
     "execution_count": 14,
     "metadata": {},
     "output_type": "execute_result"
    }
   ],
   "source": [
    "arr3"
   ]
  },
  {
   "cell_type": "code",
   "execution_count": 15,
   "id": "bd74d6b8",
   "metadata": {},
   "outputs": [
    {
     "name": "stdout",
     "output_type": "stream",
     "text": [
      "[0 0 0 0 0 0]\n",
      "[0 0 0 0 0 0]\n"
     ]
    }
   ],
   "source": [
    "arr4=numpy.full(6,0)\n",
    "arr5=numpy.zeros(6,dtype=int)\n",
    "print(arr4)\n",
    "print(arr5)"
   ]
  },
  {
   "cell_type": "code",
   "execution_count": 17,
   "id": "d51a26b4",
   "metadata": {},
   "outputs": [
    {
     "name": "stdout",
     "output_type": "stream",
     "text": [
      "[1 1 1 1 1 1]\n",
      "[1 1 1 1 1 1]\n"
     ]
    }
   ],
   "source": [
    "arr6=numpy.full(6,1)\n",
    "arr7=numpy.ones(6,dtype=int)\n",
    "print(arr6)\n",
    "print(arr7)"
   ]
  },
  {
   "cell_type": "code",
   "execution_count": 19,
   "id": "17645d16",
   "metadata": {},
   "outputs": [
    {
     "name": "stdout",
     "output_type": "stream",
     "text": [
      "[0.99395317 0.81253022 0.04548678 0.41824444 0.64945338 0.31352201]\n",
      "[0.27937825 0.3717489  0.22979138 0.27779359 0.79048524 0.74876131]\n"
     ]
    }
   ],
   "source": [
    "arr8=numpy.random.random(6)\n",
    "arr9=numpy.random.random(6)\n",
    "print(arr8)\n",
    "print(arr9)"
   ]
  },
  {
   "cell_type": "code",
   "execution_count": 20,
   "id": "6b42ff96",
   "metadata": {},
   "outputs": [
    {
     "name": "stdout",
     "output_type": "stream",
     "text": [
      "[0 1 2 3 4 5]\n"
     ]
    }
   ],
   "source": [
    "array10 = numpy.arange(6)\n",
    "print(array10)"
   ]
  },
  {
   "cell_type": "code",
   "execution_count": 21,
   "id": "3ff9cc4d",
   "metadata": {},
   "outputs": [
    {
     "name": "stdout",
     "output_type": "stream",
     "text": [
      "[2 3 4 5 6]\n"
     ]
    }
   ],
   "source": [
    "array11 = numpy.arange(2, 7)\n",
    "print(array11)"
   ]
  },
  {
   "cell_type": "code",
   "execution_count": 22,
   "id": "32c8c1af",
   "metadata": {},
   "outputs": [
    {
     "name": "stdout",
     "output_type": "stream",
     "text": [
      "[ 3  6  9 12 15]\n"
     ]
    }
   ],
   "source": [
    "array12 = numpy.arange(3, 17, 3)\n",
    "print(array12)"
   ]
  },
  {
   "cell_type": "code",
   "execution_count": null,
   "id": "1370f4c8",
   "metadata": {},
   "outputs": [],
   "source": []
  }
 ],
 "metadata": {
  "kernelspec": {
   "display_name": "Python 3",
   "language": "python",
   "name": "python3"
  },
  "language_info": {
   "codemirror_mode": {
    "name": "ipython",
    "version": 3
   },
   "file_extension": ".py",
   "mimetype": "text/x-python",
   "name": "python",
   "nbconvert_exporter": "python",
   "pygments_lexer": "ipython3",
   "version": "3.8.8"
  }
 },
 "nbformat": 4,
 "nbformat_minor": 5
}

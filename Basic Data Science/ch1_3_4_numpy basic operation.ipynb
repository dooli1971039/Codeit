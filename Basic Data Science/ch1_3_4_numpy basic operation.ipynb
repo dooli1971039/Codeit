{
 "cells": [
  {
   "cell_type": "code",
   "execution_count": 1,
   "id": "2aa69e55",
   "metadata": {},
   "outputs": [],
   "source": [
    "import numpy as np"
   ]
  },
  {
   "cell_type": "code",
   "execution_count": 2,
   "id": "bb243b02",
   "metadata": {},
   "outputs": [],
   "source": [
    "arr1=np.arange(10)\n",
    "arr2=np.arange(10,20)"
   ]
  },
  {
   "cell_type": "code",
   "execution_count": 3,
   "id": "fb9c75db",
   "metadata": {},
   "outputs": [
    {
     "data": {
      "text/plain": [
       "array([0, 1, 2, 3, 4, 5, 6, 7, 8, 9])"
      ]
     },
     "execution_count": 3,
     "metadata": {},
     "output_type": "execute_result"
    }
   ],
   "source": [
    "arr1"
   ]
  },
  {
   "cell_type": "code",
   "execution_count": 4,
   "id": "5b48321f",
   "metadata": {},
   "outputs": [
    {
     "data": {
      "text/plain": [
       "array([10, 11, 12, 13, 14, 15, 16, 17, 18, 19])"
      ]
     },
     "execution_count": 4,
     "metadata": {},
     "output_type": "execute_result"
    }
   ],
   "source": [
    "arr2"
   ]
  },
  {
   "cell_type": "code",
   "execution_count": 5,
   "id": "250c1caf",
   "metadata": {},
   "outputs": [
    {
     "data": {
      "text/plain": [
       "array([ 0,  2,  4,  6,  8, 10, 12, 14, 16, 18])"
      ]
     },
     "execution_count": 5,
     "metadata": {},
     "output_type": "execute_result"
    }
   ],
   "source": [
    "arr1*2  #모든 원소의 값을 2배 해준다"
   ]
  },
  {
   "cell_type": "code",
   "execution_count": 6,
   "id": "8731c93e",
   "metadata": {},
   "outputs": [
    {
     "data": {
      "text/plain": [
       "array([10, 11, 12, 13, 14, 15, 16, 17, 18, 19])"
      ]
     },
     "execution_count": 6,
     "metadata": {},
     "output_type": "execute_result"
    }
   ],
   "source": [
    "arr1 +10"
   ]
  },
  {
   "cell_type": "code",
   "execution_count": 7,
   "id": "359b57c8",
   "metadata": {},
   "outputs": [
    {
     "data": {
      "text/plain": [
       "array([0, 1, 2, 3, 4, 5, 6, 7, 8, 9])"
      ]
     },
     "execution_count": 7,
     "metadata": {},
     "output_type": "execute_result"
    }
   ],
   "source": [
    "arr1  #단 배열 자체가 변하진 않는다"
   ]
  },
  {
   "cell_type": "code",
   "execution_count": 8,
   "id": "f03721d1",
   "metadata": {},
   "outputs": [
    {
     "data": {
      "text/plain": [
       "array([ 0,  2,  4,  6,  8, 10, 12, 14, 16, 18])"
      ]
     },
     "execution_count": 8,
     "metadata": {},
     "output_type": "execute_result"
    }
   ],
   "source": [
    "arr1=arr1*2\n",
    "arr1"
   ]
  },
  {
   "cell_type": "code",
   "execution_count": 14,
   "id": "21a57fac",
   "metadata": {},
   "outputs": [],
   "source": [
    "arr1=np.arange(10)"
   ]
  },
  {
   "cell_type": "code",
   "execution_count": 15,
   "id": "dc17312d",
   "metadata": {},
   "outputs": [],
   "source": [
    "arr3=arr1+arr2"
   ]
  },
  {
   "cell_type": "code",
   "execution_count": 16,
   "id": "b33927a4",
   "metadata": {},
   "outputs": [
    {
     "data": {
      "text/plain": [
       "array([10, 12, 14, 16, 18, 20, 22, 24, 26, 28])"
      ]
     },
     "execution_count": 16,
     "metadata": {},
     "output_type": "execute_result"
    }
   ],
   "source": [
    "arr3"
   ]
  },
  {
   "cell_type": "code",
   "execution_count": null,
   "id": "89172baf",
   "metadata": {},
   "outputs": [],
   "source": []
  }
 ],
 "metadata": {
  "kernelspec": {
   "display_name": "Python 3",
   "language": "python",
   "name": "python3"
  },
  "language_info": {
   "codemirror_mode": {
    "name": "ipython",
    "version": 3
   },
   "file_extension": ".py",
   "mimetype": "text/x-python",
   "name": "python",
   "nbconvert_exporter": "python",
   "pygments_lexer": "ipython3",
   "version": "3.8.8"
  }
 },
 "nbformat": 4,
 "nbformat_minor": 5
}

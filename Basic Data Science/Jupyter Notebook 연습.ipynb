{
 "cells": [
  {
   "cell_type": "code",
   "execution_count": 2,
   "id": "838b068f",
   "metadata": {
    "scrolled": true
   },
   "outputs": [
    {
     "name": "stdout",
     "output_type": "stream",
     "text": [
      "Hello World!\n"
     ]
    }
   ],
   "source": [
    "print(\"Hello World!\") #ctrl + Enter 누르면 cell이 실행됨\n",
    "y=3"
   ]
  },
  {
   "cell_type": "code",
   "execution_count": 3,
   "id": "dbf12ce5",
   "metadata": {},
   "outputs": [
    {
     "name": "stdout",
     "output_type": "stream",
     "text": [
      "5\n"
     ]
    }
   ],
   "source": [
    "x=5\n",
    "print(x)"
   ]
  },
  {
   "cell_type": "code",
   "execution_count": 4,
   "id": "a3b76210",
   "metadata": {},
   "outputs": [
    {
     "name": "stdout",
     "output_type": "stream",
     "text": [
      "5\n"
     ]
    }
   ],
   "source": [
    "print(x)"
   ]
  },
  {
   "cell_type": "code",
   "execution_count": 5,
   "id": "162ea4c6",
   "metadata": {},
   "outputs": [
    {
     "name": "stdout",
     "output_type": "stream",
     "text": [
      "3\n"
     ]
    }
   ],
   "source": [
    "print(y)"
   ]
  },
  {
   "cell_type": "code",
   "execution_count": 6,
   "id": "cb4d354c",
   "metadata": {},
   "outputs": [],
   "source": [
    "y=50"
   ]
  },
  {
   "cell_type": "markdown",
   "id": "6c88e338",
   "metadata": {},
   "source": [
    "# 가장 큰 제목\n",
    "## 두번째\n",
    "### 세번째\n",
    "그냥도 가능"
   ]
  },
  {
   "cell_type": "markdown",
   "id": "6590bdfc",
   "metadata": {},
   "source": [
    "글을 **두껍게** *날려* 쓸수도"
   ]
  },
  {
   "cell_type": "markdown",
   "id": "46291f27",
   "metadata": {},
   "source": [
    "리스트도 가능\n",
    "* 리스트 1\n",
    "* 리스트 2\n",
    "* 리스트 3"
   ]
  },
  {
   "cell_type": "code",
   "execution_count": null,
   "id": "42ec7684",
   "metadata": {},
   "outputs": [],
   "source": []
  }
 ],
 "metadata": {
  "kernelspec": {
   "display_name": "Python 3",
   "language": "python",
   "name": "python3"
  },
  "language_info": {
   "codemirror_mode": {
    "name": "ipython",
    "version": 3
   },
   "file_extension": ".py",
   "mimetype": "text/x-python",
   "name": "python",
   "nbconvert_exporter": "python",
   "pygments_lexer": "ipython3",
   "version": "3.8.8"
  }
 },
 "nbformat": 4,
 "nbformat_minor": 5
}

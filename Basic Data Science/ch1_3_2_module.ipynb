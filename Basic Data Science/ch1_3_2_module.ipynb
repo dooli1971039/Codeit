{
 "cells": [
  {
   "cell_type": "code",
   "execution_count": 3,
   "id": "0876b710",
   "metadata": {},
   "outputs": [],
   "source": [
    "import numpy as np  # allias\n",
    "\n",
    "arr1=np.full(6,0)\n",
    "arr2=np.zeros(6)\n",
    "arr3=np.full(6,6)\n",
    "arr4=np.ones(9)\n",
    "arr5=np.random.random(6)\n",
    "arr6=np.random.random(10)"
   ]
  },
  {
   "cell_type": "code",
   "execution_count": 4,
   "id": "905ebdcb",
   "metadata": {},
   "outputs": [
    {
     "name": "stdout",
     "output_type": "stream",
     "text": [
      "[0 0 0 0 0 0]\n",
      "[0. 0. 0. 0. 0. 0.]\n",
      "[6 6 6 6 6 6]\n",
      "[1. 1. 1. 1. 1. 1. 1. 1. 1.]\n",
      "[0.44396137 0.41895755 0.35804359 0.95145206 0.60505528 0.66223923]\n",
      "[0.33914976 0.06798771 0.83991632 0.18598607 0.64582649 0.99256706\n",
      " 0.68773772 0.39167306 0.28821437 0.54534693]\n"
     ]
    }
   ],
   "source": [
    "print(arr1)\n",
    "print(arr2)\n",
    "print(arr3)\n",
    "print(arr4)\n",
    "print(arr5)\n",
    "print(arr6)"
   ]
  },
  {
   "cell_type": "code",
   "execution_count": null,
   "id": "d29243e1",
   "metadata": {},
   "outputs": [],
   "source": []
  }
 ],
 "metadata": {
  "kernelspec": {
   "display_name": "Python 3",
   "language": "python",
   "name": "python3"
  },
  "language_info": {
   "codemirror_mode": {
    "name": "ipython",
    "version": 3
   },
   "file_extension": ".py",
   "mimetype": "text/x-python",
   "name": "python",
   "nbconvert_exporter": "python",
   "pygments_lexer": "ipython3",
   "version": "3.8.8"
  }
 },
 "nbformat": 4,
 "nbformat_minor": 5
}
